{
 "cells": [
  {
   "cell_type": "code",
   "execution_count": null,
   "metadata": {},
   "outputs": [],
   "source": [
    "# import a module just a .py file\n",
    "from Bio import Entrez"
   ]
  },
  {
   "cell_type": "code",
   "execution_count": null,
   "metadata": {},
   "outputs": [],
   "source": [
    "# email you use from NCBI\n",
    "Entrez.email = \"benmainye@gmail.com\""
   ]
  },
  {
   "cell_type": "code",
   "execution_count": null,
   "metadata": {},
   "outputs": [],
   "source": [
    "# make a placeholder to store result from querying \n",
    "handle = Entrez.esearch(db = \"pubmed\", term=\"[Open science] AND Kenya\")"
   ]
  },
  {
   "cell_type": "code",
   "execution_count": null,
   "metadata": {},
   "outputs": [],
   "source": [
    "# make another placeholder which queries NCBI to get the NCBI\n",
    "# IDs of interest\n",
    "record = Entrez.read(handle)"
   ]
  },
  {
   "cell_type": "code",
   "execution_count": null,
   "metadata": {},
   "outputs": [],
   "source": [
    "# The result is a dictionary that contains various values\n",
    "# Try running this line of code without the bracket [\"IdList\"]\n",
    "record[\"IdList\"]"
   ]
  },
  {
   "cell_type": "markdown",
   "metadata": {},
   "source": [
    "Great! We now have **PubMed IDs** that could contain Id's that have papers related to term *[Open science] AND Kenya.* This is the same way you'd request for information at pubmed in NCBI. Let go ahead and get the information the full paper if possible in the next step."
   ]
  },
  {
   "cell_type": "code",
   "execution_count": null,
   "metadata": {},
   "outputs": [],
   "source": [
    "# We just need to change our handle to get for instance a summary of \n",
    "# the data the papers we need\n",
    "handle2 = Entrez.esummary(db=\"pubmed\", id = \"30123385\")"
   ]
  },
  {
   "cell_type": "code",
   "execution_count": null,
   "metadata": {},
   "outputs": [],
   "source": [
    "# Let's bring our result back from NCBI\n",
    "record2 = Entrez.read(handle2)\n",
    "\n",
    "# see what we are capable of subsetting\n",
    "record2"
   ]
  },
  {
   "cell_type": "code",
   "execution_count": null,
   "metadata": {},
   "outputs": [],
   "source": [
    "print(\"Extract interesting entries in the data\")\n",
    "print(\"\")\n",
    "print(record2[0]['Id'])\n",
    "print(\"\")\n",
    "print(record2[0]['Title'])\n",
    "print(\"\")\n",
    "print(record2[0]['AuthorList'])\n",
    "print(\"\")\n",
    "print(record2[0]['FullJournalName'])\n",
    "print(\"\")\n",
    "print(record2[0]['EPubDate'])"
   ]
  },
  {
   "cell_type": "code",
   "execution_count": null,
   "metadata": {},
   "outputs": [],
   "source": [
    "# We can't extract everything we want so let's just get the full paper\n",
    "# if we can\n",
    "?Entrez.efetch"
   ]
  },
  {
   "cell_type": "code",
   "execution_count": null,
   "metadata": {},
   "outputs": [],
   "source": [
    "# As Caleb said this will give us XML output which we continue to parse\n",
    "# Notice, the documentation of each argument need more annotation\n",
    "handle4 = Entrez.efetch(db=\"pubmed\", id = \"30123385\", rettype=\"gb\",retmode=\"text\")\n",
    "\n",
    "# fetching the result from the database\n",
    "# print(handle4.read())"
   ]
  },
  {
   "cell_type": "code",
   "execution_count": null,
   "metadata": {},
   "outputs": [],
   "source": [
    "# Checking what type of object is return XML maybe?\n",
    "# remove the delete the hash tag to see for yourself\n",
    "# type(handle4.read())"
   ]
  },
  {
   "cell_type": "code",
   "execution_count": null,
   "metadata": {},
   "outputs": [],
   "source": [
    "# Using store magic command to store the output to a file\n",
    "# Storing in variables for later is not allowed\n",
    "%store handle4.read() >> file.txt"
   ]
  },
  {
   "cell_type": "code",
   "execution_count": null,
   "metadata": {},
   "outputs": [],
   "source": [
    "# you can use shell commands directly on the cell of jupyter\n",
    "%cat file.txt"
   ]
  },
  {
   "cell_type": "markdown",
   "metadata": {},
   "source": [
    "We have to write code 20 times! Nope there's an efficient way to solve our this problem, at least partially. It's .... you guessed it write a function. Go back to the code we wrote we put everything together and change just a few things and we are golden right? RIGHT?"
   ]
  },
  {
   "cell_type": "code",
   "execution_count": null,
   "metadata": {},
   "outputs": [],
   "source": [
    "# write a function to automate rewriting the code over and over again\n",
    "def paper_retriever(email, searchterm, pubmedid):\n",
    "    '''The paper retriever function takes your email which uses the same name email as an \n",
    "    argument, pubmedid you can get this from the previous function, searchterm take the NCBI type of query as a string\n",
    "    and renamefile just changing your file names to avoid confusion.\n",
    "    \n",
    "    Return the full paper depending on if it's open access or not.\n",
    "    '''\n",
    "    # Enter your own email\n",
    "    Entrez.email = email\n",
    "    \n",
    "    # search NCBI from the particular search term with method esearch\n",
    "    handle = Entrez.esearch(db=\"pubmed\", term=searchterm)\n",
    "    \n",
    "    # get the results\n",
    "    record = Entrez.read(handle)\n",
    "    \n",
    "    # the method efetch does and fetches the information you need brings it back to your Ipython session\n",
    "    handle2 = Entrez.efetch(db=\"pubmed\", id = pubmedid, rettype=\"gb\",retmode=\"text\")\n",
    "    \n",
    "    # seeing the results\n",
    "#     print(\"Extract interesting entries in the data\")\n",
    "#     print(\"\")\n",
    "#     print(record[0]['Id'])\n",
    "#     print(\"\")\n",
    "#     print(record[0]['Title'])\n",
    "#     print(\"\")\n",
    "#     print(record[0]['AuthorList'])\n",
    "#     print(\"\")\n",
    "#     print(record[0]['FullJournalName'])\n",
    "#     print(\"\")\n",
    "#     print(record[0]['EPubDate'])\n",
    "    \n",
    "    # using cell magic in a function in the jupyter notebook\n",
    "    return handle2.read()"
   ]
  },
  {
   "cell_type": "code",
   "execution_count": null,
   "metadata": {},
   "outputs": [],
   "source": [
    "# calling the function as a test\n",
    "print (paper_retriever(email=\"benmainye@gmail.com\", searchterm=\"[Open science] AND Kenya\",pubmedid=30123385))"
   ]
  },
  {
   "cell_type": "code",
   "execution_count": null,
   "metadata": {},
   "outputs": [],
   "source": [
    "paper = paper_retriever(email=\"benmainye@gmail.com\", searchterm=\"[Open science] AND Kenya\",pubmedid=30123385)"
   ]
  },
  {
   "cell_type": "code",
   "execution_count": null,
   "metadata": {},
   "outputs": [],
   "source": [
    "paper"
   ]
  },
  {
   "cell_type": "code",
   "execution_count": null,
   "metadata": {},
   "outputs": [],
   "source": [
    "%store paper >> file2.txt"
   ]
  },
  {
   "cell_type": "code",
   "execution_count": null,
   "metadata": {},
   "outputs": [],
   "source": [
    "%cat file2.txt"
   ]
  },
  {
   "cell_type": "code",
   "execution_count": null,
   "metadata": {},
   "outputs": [],
   "source": [
    "%%writefile paper_retriever.py\n",
    "from Bio import Entrez\n",
    "def paper_retriever(email, searchterm, pubmedid):\n",
    "    '''The paper retriever function takes your email which uses the same name email as an \n",
    "    argument, pubmedid you can get this from the previous function, searchterm take the NCBI type of query as a string.\n",
    "    \n",
    "    Return the full paper depending on if it's open access or not.\n",
    "    '''\n",
    "    # Enter your own email\n",
    "    Entrez.email = email\n",
    "    \n",
    "    # search NCBI from the particular search term with method esearch\n",
    "    handle = Entrez.esearch(db=\"pubmed\", term=searchterm)\n",
    "    \n",
    "    # get the results\n",
    "    record = Entrez.read(handle)\n",
    "    \n",
    "    # the method efetch does and fetches the information you need brings it back to your Ipython session\n",
    "    handle2 = Entrez.efetch(db=\"pubmed\", id = pubmedid, rettype=\"gb\",retmode=\"text\")\n",
    "    \n",
    "    # using cell magic in a function in the jupyter notebook\n",
    "    return handle2.read()\n",
    "\n",
    "paper1 = paper_retriever(email=\"benmainye@gmail.com\", searchterm=\"[Open science] AND Kenya\",pubmedid=30123385)\n",
    "#%store paper >> papers1.txt\n",
    "print(paper1)"
   ]
  },
  {
   "cell_type": "code",
   "execution_count": 1,
   "metadata": {},
   "outputs": [
    {
     "name": "stderr",
     "output_type": "stream",
     "text": [
      "/Users/aoi-rain/miniconda3/lib/python3.6/site-packages/Bio/Entrez/__init__.py:568: UserWarning: \n",
      "Email address is not specified.\n",
      "\n",
      "To make use of NCBI's E-utilities, NCBI requires you to specify your\n",
      "email address with each request.  As an example, if your email address\n",
      "is A.N.Other@example.com, you can specify it as follows:\n",
      "   from Bio import Entrez\n",
      "   Entrez.email = 'A.N.Other@example.com'\n",
      "In case of excessive usage of the E-utilities, NCBI will attempt to contact\n",
      "a user at the email address provided before blocking access to the\n",
      "E-utilities.\n",
      "  E-utilities.\"\"\", UserWarning)\n"
     ]
    },
    {
     "name": "stdout",
     "output_type": "stream",
     "text": [
      "DictElement({'Count': '1', 'RetMax': '1', 'RetStart': '0', 'IdList': ['30123385'], 'TranslationSet': [], 'TranslationStack': [DictElement({'Term': '30123385[UID]', 'Field': 'UID', 'Count': '-1', 'Explode': 'N'}, attributes={}), 'GROUP'], 'QueryTranslation': '30123385[UID]'}, attributes={})\n",
      "Extract interesting entries in the data\n",
      "\n",
      "30123385\n",
      "\n",
      "HIV Prevention in Adolescents and Young People in the Eastern and Southern African Region: A Review of Key Challenges Impeding Actions for an Effective Response.\n",
      "\n",
      "['Govender K', 'Masebo WGB', 'Nyamaruze P', 'Cowden RG', 'Schunter BT', 'Bains A']\n",
      "\n",
      "The open AIDS journal\n",
      "\n",
      "2018 Jul 19\n",
      "DictElement({'Count': '1', 'RetMax': '1', 'RetStart': '0', 'IdList': ['30123385'], 'TranslationSet': [], 'TranslationStack': [DictElement({'Term': '30123385[UID]', 'Field': 'UID', 'Count': '-1', 'Explode': 'N'}, attributes={}), 'GROUP'], 'QueryTranslation': '30123385[UID]'}, attributes={})\n"
     ]
    }
   ],
   "source": [
    "from Bio import Entrez\n",
    "def paper_parser(term, identity):\n",
    "    handle = Entrez.esearch(db=\"pubmed\", term=identity)\n",
    "    record = Entrez.read(handle)\n",
    "    print (record)\n",
    "    handle2 = Entrez.esummary(db=\"pubmed\", id = identity)\n",
    "    record2 = Entrez.read(handle2)\n",
    "    print(\"Extract interesting entries in the data\")\n",
    "    print(\"\")\n",
    "    print(record2[0]['Id'])\n",
    "    print(\"\")\n",
    "    print(record2[0]['Title'])\n",
    "    print(\"\")\n",
    "    print(record2[0]['AuthorList'])\n",
    "    print(\"\")\n",
    "    print(record2[0]['FullJournalName'])\n",
    "    print(\"\")\n",
    "    print(record2[0]['EPubDate'])\n",
    "    return record\n",
    "\n",
    "print(paper_parser(term=\"[Open science] AND Kenya\", identity=30123385))"
   ]
  },
  {
   "cell_type": "code",
   "execution_count": 6,
   "metadata": {},
   "outputs": [
    {
     "name": "stdout",
     "output_type": "stream",
     "text": [
      "Overwriting paper_parser.py\n"
     ]
    }
   ],
   "source": [
    "%%writefile paper_parser.py\n",
    "from Bio import Entrez\n",
    "def paper_parser(term, identity):\n",
    "    Entrez.email = \"benmainye@gmail.com\" #use your email\n",
    "    handle = Entrez.esearch(db=\"pubmed\", term=identity)\n",
    "    record = Entrez.read(handle)\n",
    "    print (record)\n",
    "    handle2 = Entrez.esummary(db=\"pubmed\", id = identity)\n",
    "    record2 = Entrez.read(handle2)\n",
    "    print(\"Extract interesting entries in the data\")\n",
    "    print(\"\")\n",
    "    print(record2[0]['Id'])\n",
    "    print(\"\")\n",
    "    print(record2[0]['Title'])\n",
    "    print(\"\")\n",
    "    print(record2[0]['AuthorList'])\n",
    "    print(\"\")\n",
    "    print(record2[0]['FullJournalName'])\n",
    "    print(\"\")\n",
    "    print(record2[0]['EPubDate'])\n",
    "    return record2\n",
    "\n",
    "paper2 = paper_parser(term=\"[Open science] AND Kenya\", identity=30123385)\n",
    "#%store paper2 >> papers2.txt run in ipython session\n",
    "print(paper2)"
   ]
  },
  {
   "cell_type": "code",
   "execution_count": 8,
   "metadata": {},
   "outputs": [
    {
     "name": "stdout",
     "output_type": "stream",
     "text": [
      "\n",
      "1. Open AIDS J. 2018 Jul 19;12:53-67. doi: 10.2174/1874613601812010053. eCollection \n",
      "2018.\n",
      "\n",
      "HIV Prevention in Adolescents and Young People in the Eastern and Southern\n",
      "African Region: A Review of Key Challenges Impeding Actions for an Effective\n",
      "Response.\n",
      "\n",
      "Govender K(1), Masebo WGB(1), Nyamaruze P(2), Cowden RG(3), Schunter BT(4), Bains\n",
      "A(4).\n",
      "\n",
      "Author information: \n",
      "(1)Health Economics and HIV and AIDS Research Division, University of\n",
      "KwaZulu-Natal, Durban, South Africa.\n",
      "(2)School of Applied Human Sciences, University of KwaZulu-Natal, Durban, South\n",
      "Africa.\n",
      "(3)Department of Psychology, Middle Tennessee State University, Murfreesboro,\n",
      "United States of America.\n",
      "(4)UNICEF, Eastern and Southern Africa Regional Office, Nairobi, Kenya.\n",
      "\n",
      "The global commitment to ending the AIDS epidemic by 2030 places HIV prevention\n",
      "at the centre of the response. With the disease continuing to disproportionately \n",
      "affect young populations in the Eastern and Southern African Region (ESAR),\n",
      "particularly adolescent girls and young women, reducing HIV infections in this\n",
      "group is integral to achieving this ambitious target. This paper examines\n",
      "epidemiological patterns of the HIV epidemic among adolescents and young people, \n",
      "indicating where HIV prevention efforts need to be focused (i.e., adolescent\n",
      "girls and young women, adolescent boys and young men and young key populations). \n",
      "Key innovations in the science of HIV prevention and strategies for dealing with \n",
      "programme implementation are reviewed. The paper also discusses the value of\n",
      "processes to mitigate HIV vulnerability and recommends actions needed to sustain \n",
      "the HIV prevention response. Stemming the tide of new HIV infections among young \n",
      "people in the ESAR requires an amplification of efforts across all sectors, which\n",
      "will safeguard past achievements and advance actions towards eliminating AIDS as \n",
      "a public health threat.\n",
      "\n",
      "DOI: 10.2174/1874613601812010053 \n",
      "PMCID: PMC6062910\n",
      "PMID: 30123385 \n",
      "\n",
      "\n"
     ]
    }
   ],
   "source": [
    "%run paper_retriever.py"
   ]
  },
  {
   "cell_type": "code",
   "execution_count": 7,
   "metadata": {},
   "outputs": [
    {
     "name": "stdout",
     "output_type": "stream",
     "text": [
      "DictElement({'Count': '1', 'RetMax': '1', 'RetStart': '0', 'IdList': ['30123385'], 'TranslationSet': [], 'TranslationStack': [DictElement({'Term': '30123385[UID]', 'Field': 'UID', 'Count': '-1', 'Explode': 'N'}, attributes={}), 'GROUP'], 'QueryTranslation': '30123385[UID]'}, attributes={})\n",
      "Extract interesting entries in the data\n",
      "\n",
      "30123385\n",
      "\n",
      "HIV Prevention in Adolescents and Young People in the Eastern and Southern African Region: A Review of Key Challenges Impeding Actions for an Effective Response.\n",
      "\n",
      "['Govender K', 'Masebo WGB', 'Nyamaruze P', 'Cowden RG', 'Schunter BT', 'Bains A']\n",
      "\n",
      "The open AIDS journal\n",
      "\n",
      "2018 Jul 19\n",
      "[DictElement({'Item': [], 'Id': '30123385', 'PubDate': '2018', 'EPubDate': '2018 Jul 19', 'Source': 'Open AIDS J', 'AuthorList': ['Govender K', 'Masebo WGB', 'Nyamaruze P', 'Cowden RG', 'Schunter BT', 'Bains A'], 'LastAuthor': 'Bains A', 'Title': 'HIV Prevention in Adolescents and Young People in the Eastern and Southern African Region: A Review of Key Challenges Impeding Actions for an Effective Response.', 'Volume': '12', 'Issue': '', 'Pages': '53-67', 'LangList': ['English'], 'NlmUniqueID': '101480215', 'ISSN': '', 'ESSN': '1874-6136', 'PubTypeList': ['Journal Article', 'Review'], 'RecordStatus': 'PubMed', 'PubStatus': '', 'ArticleIds': DictElement({'pubmed': ['30123385'], 'medline': [], 'doi': '10.2174/1874613601812010053', 'pii': 'TOAIDJ-12-53', 'pmc': 'PMC6062910', 'rid': '30123385', 'eid': '30123385', 'pmcid': 'pmc-id: PMC6062910;'}, attributes={}), 'DOI': '10.2174/1874613601812010053', 'History': DictElement({'pubmed': ['2018/08/21 06:00'], 'medline': ['2018/08/21 06:01'], 'received': '2018/02/26 00:00', 'revised': '2018/04/27 00:00', 'accepted': '2018/05/07 00:00', 'entrez': '2018/08/21 06:00'}, attributes={}), 'References': [], 'HasAbstract': IntegerElement(1, attributes={}), 'PmcRefCount': IntegerElement(0, attributes={}), 'FullJournalName': 'The open AIDS journal', 'ELocationID': 'doi: 10.2174/1874613601812010053', 'SO': '2018;12:53-67'}, attributes={})]\n"
     ]
    }
   ],
   "source": [
    "%run paper_parser.py"
   ]
  },
  {
   "cell_type": "code",
   "execution_count": null,
   "metadata": {},
   "outputs": [],
   "source": []
  }
 ],
 "metadata": {
  "kernelspec": {
   "display_name": "Python 3",
   "language": "python",
   "name": "python3"
  },
  "language_info": {
   "codemirror_mode": {
    "name": "ipython",
    "version": 3
   },
   "file_extension": ".py",
   "mimetype": "text/x-python",
   "name": "python",
   "nbconvert_exporter": "python",
   "pygments_lexer": "ipython3",
   "version": "3.6.5"
  }
 },
 "nbformat": 4,
 "nbformat_minor": 2
}
