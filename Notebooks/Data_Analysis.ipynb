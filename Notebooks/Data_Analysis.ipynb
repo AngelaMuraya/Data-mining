{
 "cells": [
  {
   "cell_type": "markdown",
   "metadata": {},
   "source": [
    "### Analyse the Publications data from Kenya\n",
    "\n",
    "So we managed to download about 25,000 paper abstracts with meta-data from Kenyan Authors. Now we need to makse sense of these data and identify trends. We are asking questions like:\n",
    "\n",
    "1. Changes in the number of papers published over time (Yearly)\n",
    "2. Changes in the number of open acces papers over the years (Keep in mind that access of the lack thereof maybe linked to embargo periods)\n",
    "3. Colaboration trends (How can we get this information?\n",
    "4. What else can we find out?"
   ]
  },
  {
   "cell_type": "code",
   "execution_count": null,
   "metadata": {},
   "outputs": [],
   "source": []
  }
 ],
 "metadata": {
  "kernelspec": {
   "display_name": "Python 3",
   "language": "python",
   "name": "python3"
  },
  "language_info": {
   "codemirror_mode": {
    "name": "ipython",
    "version": 3
   },
   "file_extension": ".py",
   "mimetype": "text/x-python",
   "name": "python",
   "nbconvert_exporter": "python",
   "pygments_lexer": "ipython3",
   "version": "3.6.4"
  }
 },
 "nbformat": 4,
 "nbformat_minor": 2
}
